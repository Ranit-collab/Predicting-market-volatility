{
 "cells": [
  {
   "cell_type": "code",
   "execution_count": 80,
   "metadata": {},
   "outputs": [],
   "source": [
    "import pandas as pd\n",
    "import numpy as np\n",
    "import matplotlib.pyplot as plt\n",
    "import seaborn as sns\n",
    "import warnings\n",
    "warnings.filterwarnings('ignore')"
   ]
  },
  {
   "cell_type": "code",
   "execution_count": 81,
   "metadata": {},
   "outputs": [
    {
     "data": {
      "text/html": [
       "<div>\n",
       "<style scoped>\n",
       "    .dataframe tbody tr th:only-of-type {\n",
       "        vertical-align: middle;\n",
       "    }\n",
       "\n",
       "    .dataframe tbody tr th {\n",
       "        vertical-align: top;\n",
       "    }\n",
       "\n",
       "    .dataframe thead th {\n",
       "        text-align: right;\n",
       "    }\n",
       "</style>\n",
       "<table border=\"1\" class=\"dataframe\">\n",
       "  <thead>\n",
       "    <tr style=\"text-align: right;\">\n",
       "      <th></th>\n",
       "      <th>Unnamed: 0</th>\n",
       "      <th>open</th>\n",
       "      <th>high</th>\n",
       "      <th>low</th>\n",
       "      <th>close</th>\n",
       "      <th>volume</th>\n",
       "      <th>date_parsed</th>\n",
       "      <th>cont_len</th>\n",
       "      <th>cont_pol</th>\n",
       "      <th>cont_sent</th>\n",
       "      <th>date_year</th>\n",
       "      <th>date_month</th>\n",
       "      <th>date_day</th>\n",
       "      <th>sent_neg</th>\n",
       "      <th>sent_neu</th>\n",
       "      <th>sent_pos</th>\n",
       "      <th>target_variable</th>\n",
       "    </tr>\n",
       "  </thead>\n",
       "  <tbody>\n",
       "    <tr>\n",
       "      <th>0</th>\n",
       "      <td>0</td>\n",
       "      <td>1358.98</td>\n",
       "      <td>1374.71</td>\n",
       "      <td>1358.98</td>\n",
       "      <td>1368.70</td>\n",
       "      <td>593003200.0</td>\n",
       "      <td>2012-04-11</td>\n",
       "      <td>108.142857</td>\n",
       "      <td>0.01</td>\n",
       "      <td>Positive</td>\n",
       "      <td>2012</td>\n",
       "      <td>4</td>\n",
       "      <td>11</td>\n",
       "      <td>0</td>\n",
       "      <td>0</td>\n",
       "      <td>1</td>\n",
       "      <td>0</td>\n",
       "    </tr>\n",
       "    <tr>\n",
       "      <th>1</th>\n",
       "      <td>1</td>\n",
       "      <td>1368.77</td>\n",
       "      <td>1388.13</td>\n",
       "      <td>1368.77</td>\n",
       "      <td>1387.56</td>\n",
       "      <td>547368832.0</td>\n",
       "      <td>2012-04-12</td>\n",
       "      <td>75.000000</td>\n",
       "      <td>0.11</td>\n",
       "      <td>Positive</td>\n",
       "      <td>2012</td>\n",
       "      <td>4</td>\n",
       "      <td>12</td>\n",
       "      <td>0</td>\n",
       "      <td>0</td>\n",
       "      <td>1</td>\n",
       "      <td>1</td>\n",
       "    </tr>\n",
       "    <tr>\n",
       "      <th>2</th>\n",
       "      <td>2</td>\n",
       "      <td>1387.61</td>\n",
       "      <td>1387.61</td>\n",
       "      <td>1369.85</td>\n",
       "      <td>1370.26</td>\n",
       "      <td>631237824.0</td>\n",
       "      <td>2012-04-13</td>\n",
       "      <td>73.000000</td>\n",
       "      <td>0.00</td>\n",
       "      <td>Neutral</td>\n",
       "      <td>2012</td>\n",
       "      <td>4</td>\n",
       "      <td>13</td>\n",
       "      <td>0</td>\n",
       "      <td>1</td>\n",
       "      <td>0</td>\n",
       "      <td>0</td>\n",
       "    </tr>\n",
       "    <tr>\n",
       "      <th>3</th>\n",
       "      <td>3</td>\n",
       "      <td>1370.27</td>\n",
       "      <td>1379.66</td>\n",
       "      <td>1365.38</td>\n",
       "      <td>1369.57</td>\n",
       "      <td>596952128.0</td>\n",
       "      <td>2012-04-16</td>\n",
       "      <td>188.500000</td>\n",
       "      <td>0.13</td>\n",
       "      <td>Positive</td>\n",
       "      <td>2012</td>\n",
       "      <td>4</td>\n",
       "      <td>16</td>\n",
       "      <td>0</td>\n",
       "      <td>0</td>\n",
       "      <td>1</td>\n",
       "      <td>0</td>\n",
       "    </tr>\n",
       "    <tr>\n",
       "      <th>4</th>\n",
       "      <td>4</td>\n",
       "      <td>1369.57</td>\n",
       "      <td>1392.76</td>\n",
       "      <td>1369.57</td>\n",
       "      <td>1390.78</td>\n",
       "      <td>566529216.0</td>\n",
       "      <td>2012-04-17</td>\n",
       "      <td>235.529412</td>\n",
       "      <td>0.10</td>\n",
       "      <td>Positive</td>\n",
       "      <td>2012</td>\n",
       "      <td>4</td>\n",
       "      <td>17</td>\n",
       "      <td>0</td>\n",
       "      <td>0</td>\n",
       "      <td>1</td>\n",
       "      <td>1</td>\n",
       "    </tr>\n",
       "  </tbody>\n",
       "</table>\n",
       "</div>"
      ],
      "text/plain": [
       "   Unnamed: 0     open     high      low    close       volume date_parsed  \\\n",
       "0           0  1358.98  1374.71  1358.98  1368.70  593003200.0  2012-04-11   \n",
       "1           1  1368.77  1388.13  1368.77  1387.56  547368832.0  2012-04-12   \n",
       "2           2  1387.61  1387.61  1369.85  1370.26  631237824.0  2012-04-13   \n",
       "3           3  1370.27  1379.66  1365.38  1369.57  596952128.0  2012-04-16   \n",
       "4           4  1369.57  1392.76  1369.57  1390.78  566529216.0  2012-04-17   \n",
       "\n",
       "     cont_len  cont_pol cont_sent  date_year  date_month  date_day  sent_neg  \\\n",
       "0  108.142857      0.01  Positive       2012           4        11         0   \n",
       "1   75.000000      0.11  Positive       2012           4        12         0   \n",
       "2   73.000000      0.00   Neutral       2012           4        13         0   \n",
       "3  188.500000      0.13  Positive       2012           4        16         0   \n",
       "4  235.529412      0.10  Positive       2012           4        17         0   \n",
       "\n",
       "   sent_neu  sent_pos  target_variable  \n",
       "0         0         1                0  \n",
       "1         0         1                1  \n",
       "2         1         0                0  \n",
       "3         0         1                0  \n",
       "4         0         1                1  "
      ]
     },
     "execution_count": 81,
     "metadata": {},
     "output_type": "execute_result"
    }
   ],
   "source": [
    "df=pd.read_csv('clean_final_data.csv')\n",
    "df.head()"
   ]
  },
  {
   "cell_type": "code",
   "execution_count": 82,
   "metadata": {},
   "outputs": [],
   "source": [
    "df['date_parsed'] = pd.to_datetime(df['date_parsed'],format=\"%Y-%m-%d\")"
   ]
  },
  {
   "cell_type": "code",
   "execution_count": 83,
   "metadata": {},
   "outputs": [
    {
     "data": {
      "text/plain": [
       "Index(['Unnamed: 0', 'open', 'high', 'low', 'close', 'volume', 'date_parsed',\n",
       "       'cont_len', 'cont_pol', 'cont_sent', 'date_year', 'date_month',\n",
       "       'date_day', 'sent_neg', 'sent_neu', 'sent_pos', 'target_variable'],\n",
       "      dtype='object')"
      ]
     },
     "execution_count": 83,
     "metadata": {},
     "output_type": "execute_result"
    }
   ],
   "source": [
    "df.columns"
   ]
  },
  {
   "cell_type": "code",
   "execution_count": 84,
   "metadata": {},
   "outputs": [
    {
     "data": {
      "text/plain": [
       "RangeIndex(start=0, stop=1637, step=1)"
      ]
     },
     "execution_count": 84,
     "metadata": {},
     "output_type": "execute_result"
    }
   ],
   "source": [
    "df.index"
   ]
  },
  {
   "cell_type": "code",
   "execution_count": 85,
   "metadata": {},
   "outputs": [
    {
     "name": "stdout",
     "output_type": "stream",
     "text": [
      "<class 'pandas.core.frame.DataFrame'>\n",
      "RangeIndex: 1637 entries, 0 to 1636\n",
      "Data columns (total 17 columns):\n",
      " #   Column           Non-Null Count  Dtype         \n",
      "---  ------           --------------  -----         \n",
      " 0   Unnamed: 0       1637 non-null   int64         \n",
      " 1   open             1637 non-null   float64       \n",
      " 2   high             1637 non-null   float64       \n",
      " 3   low              1637 non-null   float64       \n",
      " 4   close            1637 non-null   float64       \n",
      " 5   volume           1637 non-null   float64       \n",
      " 6   date_parsed      1637 non-null   datetime64[ns]\n",
      " 7   cont_len         1637 non-null   float64       \n",
      " 8   cont_pol         1637 non-null   float64       \n",
      " 9   cont_sent        1637 non-null   object        \n",
      " 10  date_year        1637 non-null   int64         \n",
      " 11  date_month       1637 non-null   int64         \n",
      " 12  date_day         1637 non-null   int64         \n",
      " 13  sent_neg         1637 non-null   int64         \n",
      " 14  sent_neu         1637 non-null   int64         \n",
      " 15  sent_pos         1637 non-null   int64         \n",
      " 16  target_variable  1637 non-null   int64         \n",
      "dtypes: datetime64[ns](1), float64(7), int64(8), object(1)\n",
      "memory usage: 217.5+ KB\n"
     ]
    }
   ],
   "source": [
    "df.info()"
   ]
  },
  {
   "cell_type": "code",
   "execution_count": 86,
   "metadata": {},
   "outputs": [],
   "source": [
    "X=df.drop(columns=['Unnamed: 0','date_parsed','target_variable','cont_sent'])\n",
    "y=df['target_variable']"
   ]
  },
  {
   "cell_type": "code",
   "execution_count": 87,
   "metadata": {},
   "outputs": [
    {
     "data": {
      "text/plain": [
       "1    885\n",
       "0    752\n",
       "Name: target_variable, dtype: int64"
      ]
     },
     "execution_count": 87,
     "metadata": {},
     "output_type": "execute_result"
    }
   ],
   "source": [
    "y.value_counts()"
   ]
  },
  {
   "cell_type": "code",
   "execution_count": 88,
   "metadata": {},
   "outputs": [
    {
     "data": {
      "text/plain": [
       "ExtraTreesClassifier()"
      ]
     },
     "execution_count": 88,
     "metadata": {},
     "output_type": "execute_result"
    }
   ],
   "source": [
    "from sklearn.ensemble import ExtraTreesClassifier\n",
    "model=ExtraTreesClassifier()\n",
    "model.fit(X,y)"
   ]
  },
  {
   "cell_type": "code",
   "execution_count": 89,
   "metadata": {},
   "outputs": [
    {
     "name": "stdout",
     "output_type": "stream",
     "text": [
      "[0.13208405 0.10452694 0.10320696 0.12748348 0.12252589 0.11146856\n",
      " 0.08650029 0.02214165 0.07069788 0.11177219 0.00275136 0.00150893\n",
      " 0.00333182]\n"
     ]
    }
   ],
   "source": [
    "print(model.feature_importances_)"
   ]
  },
  {
   "cell_type": "code",
   "execution_count": 90,
   "metadata": {},
   "outputs": [
    {
     "data": {
      "image/png": "[encoded data removed]",
      "text/plain": [
       "<Figure size 432x288 with 1 Axes>"
      ]
     },
     "metadata": {
      "needs_background": "light"
     },
     "output_type": "display_data"
    }
   ],
   "source": [
    "feature_importance=pd.Series(model.feature_importances_,index=X.columns)\n",
    "feature_importance.nlargest(13).plot(kind='barh')\n",
    "plt.show()"
   ]
  },
  {
   "cell_type": "code",
   "execution_count": 91,
   "metadata": {},
   "outputs": [],
   "source": [
    "from sklearn.model_selection import train_test_split"
   ]
  },
  {
   "cell_type": "code",
   "execution_count": 92,
   "metadata": {},
   "outputs": [],
   "source": [
    "X=df.drop(columns=['date_parsed','target_variable','cont_sent'])\n",
    "y=df['target_variable']"
   ]
  },
  {
   "cell_type": "code",
   "execution_count": 93,
   "metadata": {},
   "outputs": [],
   "source": [
    "X_train, X_test, y_train, y_test = train_test_split( X, y, test_size=0.30,random_state=0)"
   ]
  },
  {
   "cell_type": "code",
   "execution_count": 94,
   "metadata": {},
   "outputs": [],
   "source": [
    "from sklearn.linear_model import LogisticRegression\n",
    "log_model=LogisticRegression()"
   ]
  },
  {
   "cell_type": "code",
   "execution_count": 95,
   "metadata": {},
   "outputs": [
    {
     "data": {
      "text/plain": [
       "LogisticRegression()"
      ]
     },
     "execution_count": 95,
     "metadata": {},
     "output_type": "execute_result"
    }
   ],
   "source": [
    "log_model.fit(X_train,y_train)"
   ]
  },
  {
   "cell_type": "code",
   "execution_count": 96,
   "metadata": {},
   "outputs": [],
   "source": [
    "prediction=log_model.predict(X_test)"
   ]
  },
  {
   "cell_type": "code",
   "execution_count": 97,
   "metadata": {},
   "outputs": [
    {
     "data": {
      "text/plain": [
       "'              precision    recall  f1-score   support\\n\\n           0       0.00      0.00      0.00       218\\n           1       0.56      1.00      0.72       274\\n\\n    accuracy                           0.56       492\\n   macro avg       0.28      0.50      0.36       492\\nweighted avg       0.31      0.56      0.40       492\\n'"
      ]
     },
     "execution_count": 97,
     "metadata": {},
     "output_type": "execute_result"
    }
   ],
   "source": [
    "from sklearn.metrics import classification_report\n",
    "classification_report(y_test,prediction)"
   ]
  },
  {
   "cell_type": "code",
   "execution_count": 98,
   "metadata": {},
   "outputs": [
    {
     "data": {
      "text/plain": [
       "array([[  0, 218],\n",
       "       [  0, 274]])"
      ]
     },
     "execution_count": 98,
     "metadata": {},
     "output_type": "execute_result"
    }
   ],
   "source": [
    "from sklearn.metrics import confusion_matrix\n",
    "confusion_matrix(y_test,prediction)"
   ]
  },
  {
   "cell_type": "code",
   "execution_count": 99,
   "metadata": {},
   "outputs": [
    {
     "data": {
      "text/plain": [
       "0.556910569105691"
      ]
     },
     "execution_count": 99,
     "metadata": {},
     "output_type": "execute_result"
    }
   ],
   "source": [
    "from sklearn.metrics import accuracy_score\n",
    "accuracy_score(y_test,prediction)"
   ]
  },
  {
   "cell_type": "markdown",
   "metadata": {},
   "source": [
    "### Hyperparameter tuning \n",
    "1.GridSearchCV\n",
    "\n",
    "2.RandomizedSearchCV\n",
    "\n",
    "3.Bayesian Optimization-Automate Hyperparameter Tuning (Hyperopt)\n",
    "\n",
    "4.Sequential model based optimization\n",
    "\n",
    "5.Optuna-Automate Hyperparameter Tuning\n",
    "\n",
    "6.Genetic Algorithm\n"
   ]
  },
  {
   "cell_type": "markdown",
   "metadata": {},
   "source": [
    "The main parameter used by logistic regression are:\n",
    "\n",
    "    penalty--> it is used for handle the overfitting and underfitting\n",
    "    \n",
    "    tol---->Tolerance for stopping criteria.\n",
    "    \n",
    "    C------>Inverse of regularization strength\n",
    "    \n",
    "    solver---->Algorithm to use in the optimization problem.\n",
    "    \n",
    "    max_iter---->Maximum number of iterations taken for the solvers to converge\n",
    "    \n",
    "    verbose--->To see the progess\n",
    "    \n",
    "    n_jobs---->Number of CPU cores used when parallelizing over classes"
   ]
  },
  {
   "cell_type": "code",
   "execution_count": 100,
   "metadata": {},
   "outputs": [
    {
     "name": "stdout",
     "output_type": "stream",
     "text": [
      "{'penalty': ['l1', 'l2', 'elasticnet', 'none'], 'solver': ['newton-cg', 'lbfgs', 'liblinear', 'sag', 'saga'], 'max_iter': [100, 200, 300, 350]}\n"
     ]
    }
   ],
   "source": [
    "from sklearn.model_selection import RandomizedSearchCV\n",
    "penalty=['l1', 'l2', 'elasticnet', 'none']\n",
    "solver=['newton-cg', 'lbfgs', 'liblinear', 'sag', 'saga']\n",
    "max_iter=[100,200,300,350]\n",
    "random_grid={'penalty':penalty,\n",
    "             'solver':solver,\n",
    "             'max_iter':max_iter,\n",
    "             }\n",
    "\n",
    "print(random_grid)"
   ]
  },
  {
   "cell_type": "code",
   "execution_count": 101,
   "metadata": {},
   "outputs": [
    {
     "name": "stdout",
     "output_type": "stream",
     "text": [
      "Fitting 3 folds for each of 10 candidates, totalling 30 fits\n"
     ]
    },
    {
     "name": "stderr",
     "output_type": "stream",
     "text": [
      "[Parallel(n_jobs=-1)]: Using backend LokyBackend with 12 concurrent workers.\n",
      "[Parallel(n_jobs=-1)]: Done  23 out of  30 | elapsed:    1.4s remaining:    0.4s\n",
      "[Parallel(n_jobs=-1)]: Done  30 out of  30 | elapsed:    1.5s finished\n"
     ]
    },
    {
     "data": {
      "text/plain": [
       "RandomizedSearchCV(cv=3, estimator=LogisticRegression(), n_jobs=-1,\n",
       "                   param_distributions={'max_iter': [100, 200, 300, 350],\n",
       "                                        'penalty': ['l1', 'l2', 'elasticnet',\n",
       "                                                    'none'],\n",
       "                                        'solver': ['newton-cg', 'lbfgs',\n",
       "                                                   'liblinear', 'sag',\n",
       "                                                   'saga']},\n",
       "                   random_state=100, verbose=2)"
      ]
     },
     "execution_count": 101,
     "metadata": {},
     "output_type": "execute_result"
    }
   ],
   "source": [
    "lg=LogisticRegression()\n",
    "lg_randomcv=RandomizedSearchCV(estimator=lg,param_distributions=random_grid,cv=3,n_jobs=-1,random_state=100,\n",
    "                               verbose=2)\n",
    "lg_randomcv.fit(X_train,y_train)"
   ]
  },
  {
   "cell_type": "code",
   "execution_count": 102,
   "metadata": {},
   "outputs": [
    {
     "data": {
      "text/plain": [
       "{'solver': 'newton-cg', 'penalty': 'l2', 'max_iter': 200}"
      ]
     },
     "execution_count": 102,
     "metadata": {},
     "output_type": "execute_result"
    }
   ],
   "source": [
    "lg_randomcv.best_params_"
   ]
  },
  {
   "cell_type": "code",
   "execution_count": 103,
   "metadata": {},
   "outputs": [],
   "source": [
    "best_random_grid=lg_randomcv.best_params_"
   ]
  },
  {
   "cell_type": "code",
   "execution_count": 104,
   "metadata": {},
   "outputs": [
    {
     "name": "stdout",
     "output_type": "stream",
     "text": [
      "[[195  23]\n",
      " [ 20 254]]\n"
     ]
    }
   ],
   "source": [
    "pred=lg_randomcv.predict(X_test)\n",
    "print(confusion_matrix(y_test,pred))"
   ]
  },
  {
   "cell_type": "code",
   "execution_count": 105,
   "metadata": {},
   "outputs": [
    {
     "name": "stdout",
     "output_type": "stream",
     "text": [
      "Accuracy Score is 0.9126016260162602\n"
     ]
    }
   ],
   "source": [
    "print(\"Accuracy Score is\",accuracy_score(y_test,pred))"
   ]
  },
  {
   "cell_type": "code",
   "execution_count": 106,
   "metadata": {},
   "outputs": [
    {
     "name": "stdout",
     "output_type": "stream",
     "text": [
      "Accuracy on Testing Data 0.9126016260162602\n",
      "Accuracy on Training Data 0.9091703056768559\n"
     ]
    }
   ],
   "source": [
    "print(\"Accuracy on Testing Data\",lg_randomcv.score(X_test,y_test))\n",
    "print(\"Accuracy on Training Data\",lg_randomcv.score(X_train,y_train))"
   ]
  },
  {
   "cell_type": "markdown",
   "metadata": {},
   "source": [
    "<!-- Accuracy in both case have almost same. so,our model is Fine. -->"
   ]
  }
 ],
 "metadata": {
  "kernelspec": {
   "display_name": "Python 3",
   "language": "python",
   "name": "python3"
  },
  "language_info": {
   "codemirror_mode": {
    "name": "ipython",
    "version": 3
   },
   "file_extension": ".py",
   "mimetype": "text/x-python",
   "name": "python",
   "nbconvert_exporter": "python",
   "pygments_lexer": "ipython3",
   "version": "3.8.5"
  }
 },
 "nbformat": 4,
 "nbformat_minor": 4
}
